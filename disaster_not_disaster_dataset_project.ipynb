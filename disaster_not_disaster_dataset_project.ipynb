{
  "nbformat": 4,
  "nbformat_minor": 0,
  "metadata": {
    "colab": {
      "private_outputs": true,
      "provenance": [],
      "mount_file_id": "1PUYPl8szFmUl9mbjkejuTQEmRrtdJsiE",
      "authorship_tag": "ABX9TyNBgiHFXeWZsk6Ubw82840K",
      "include_colab_link": true
    },
    "kernelspec": {
      "name": "python3",
      "display_name": "Python 3"
    },
    "language_info": {
      "name": "python"
    },
    "accelerator": "GPU"
  },
  "cells": [
    {
      "cell_type": "markdown",
      "metadata": {
        "id": "view-in-github",
        "colab_type": "text"
      },
      "source": [
        "<a href=\"https://colab.research.google.com/github/yonatan-co/disaster_not_disaster_classification_tensorflow/blob/main/disaster_not_disaster_dataset_project.ipynb\" target=\"_parent\"><img src=\"https://colab.research.google.com/assets/colab-badge.svg\" alt=\"Open In Colab\"/></a>"
      ]
    },
    {
      "cell_type": "markdown",
      "source": [
        "## setup"
      ],
      "metadata": {
        "id": "UGR07wIGdQH_"
      }
    },
    {
      "cell_type": "code",
      "source": [
        "!pip install tensorflow_hub"
      ],
      "metadata": {
        "id": "xo148HoCZmAf"
      },
      "execution_count": null,
      "outputs": []
    },
    {
      "cell_type": "code",
      "execution_count": null,
      "metadata": {
        "id": "ghHDAx_aXCif"
      },
      "outputs": [],
      "source": [
        "!wget https://raw.githubusercontent.com/yonatan-co/t_helpers/main/helpers.py"
      ]
    },
    {
      "cell_type": "code",
      "source": [
        "from helpers import unzip_data, plot_loss_curves, create_tensorboard_callback, make_confusion_matrix, compare_historys"
      ],
      "metadata": {
        "id": "dkEVkblFXSPg"
      },
      "execution_count": null,
      "outputs": []
    },
    {
      "cell_type": "code",
      "source": [
        "!wget https://storage.googleapis.com/ztm_tf_course/nlp_getting_started.zip"
      ],
      "metadata": {
        "id": "Um3ydB0DXc1n"
      },
      "execution_count": null,
      "outputs": []
    },
    {
      "cell_type": "markdown",
      "source": [
        "## data preprocessing"
      ],
      "metadata": {
        "id": "8xG28apNX9oY"
      }
    },
    {
      "cell_type": "code",
      "source": [
        "unzip_data('nlp_getting_started.zip')"
      ],
      "metadata": {
        "id": "MCr9ojGeXe9X"
      },
      "execution_count": null,
      "outputs": []
    },
    {
      "cell_type": "code",
      "source": [
        "import pandas as pd\n",
        "\n",
        "train_df = pd.read_csv('/content/train.csv')\n",
        "test_df = pd.read_csv('/content/test.csv')\n",
        "\n",
        "train_df.head(), test_df.head()"
      ],
      "metadata": {
        "id": "rwM6Z3jjXlPH"
      },
      "execution_count": null,
      "outputs": []
    },
    {
      "cell_type": "code",
      "source": [
        "train_df = train_df.sample(frac=1, random_state=42)\n",
        "test_df = train_df.sample(frac=1, random_state=2)\n",
        "\n",
        "\n",
        "train_df.head()"
      ],
      "metadata": {
        "id": "Z0Y5KtlcXqRP"
      },
      "execution_count": null,
      "outputs": []
    },
    {
      "cell_type": "code",
      "source": [
        "import matplotlib.pyplot as plt\n",
        "\n",
        "\n",
        "\n",
        "labels = ['not a disaster', 'disaster']\n",
        "values = [train_df.target.value_counts()[0], train_df.target.value_counts()[1]]\n",
        "\n",
        "\n",
        "fig1, ax1 = plt.subplots()\n",
        "ax1.pie(values, labels=labels, autopct='%1.1f%%',\n",
        "        shadow=True, startangle=90)\n",
        "ax1.axis('equal')\n",
        "\n",
        "\n",
        "plt.show()"
      ],
      "metadata": {
        "id": "eyyMO0-6Xv24"
      },
      "execution_count": null,
      "outputs": []
    },
    {
      "cell_type": "code",
      "source": [
        "import random\n",
        "\n",
        "rand_index = random.randint(0, len(train_df)-5)\n",
        "\n",
        "for row in train_df[[\"text\", \"target\"]][rand_index:rand_index+5].itertuples():\n",
        "  _, text, target = row\n",
        "  print(\n",
        "  f\"\"\"\n",
        "    tweet:\n",
        "    {text}\n",
        "    target: {(\"disaster\" if target == 1 else \"not a disaster\")}\n",
        "  \"\"\")"
      ],
      "metadata": {
        "id": "M5r1PyRGXyfH"
      },
      "execution_count": null,
      "outputs": []
    },
    {
      "cell_type": "code",
      "source": [
        "from sklearn.model_selection import train_test_split"
      ],
      "metadata": {
        "id": "bhkLWs4PX3at"
      },
      "execution_count": null,
      "outputs": []
    },
    {
      "cell_type": "code",
      "source": [
        "train_tweets, val_tweets, train_labels, val_labels = train_test_split(train_df[\"text\"].to_numpy(),\n",
        "                                                                train_df[\"target\"].to_numpy(),\n",
        "                                                                test_size=0.1,\n",
        "                                                                random_state=43)"
      ],
      "metadata": {
        "id": "2OGvW8WIX5a9"
      },
      "execution_count": null,
      "outputs": []
    },
    {
      "cell_type": "markdown",
      "source": [
        "## bulding the model: Universal Sentence Encoder transfer learning"
      ],
      "metadata": {
        "id": "8zZcLtEvYNZg"
      }
    },
    {
      "cell_type": "markdown",
      "source": [
        "#### prepere callbacks"
      ],
      "metadata": {
        "id": "Amto09tiYd0H"
      }
    },
    {
      "cell_type": "code",
      "source": [
        "import tensorflow as tf\n",
        "\n",
        "\n",
        "checkpoint_path = 'model-checkpoints/cp.ckpt'\n",
        "checkpoint_callback = tf.keras.callbacks.ModelCheckpoint(checkpoint_path,\n",
        "                                                          monitor='val_accuracy',\n",
        "                                                          save_best_only=True,\n",
        "                                                          save_weights_only=True,\n",
        "                                                          verbose=0)"
      ],
      "metadata": {
        "id": "BWJTON9pYgtv"
      },
      "execution_count": null,
      "outputs": []
    },
    {
      "cell_type": "markdown",
      "source": [
        "#### define and compile the model"
      ],
      "metadata": {
        "id": "t8JMUdwWY5e3"
      }
    },
    {
      "cell_type": "code",
      "source": [
        "from tensorflow import keras \n",
        "\n",
        "\n",
        "import tensorflow_hub as hub\n",
        "\n",
        "# feature extraction layer: USE from tf hub\n",
        "feature_extraction_layer = hub.KerasLayer(\"https://tfhub.dev/google/universal-sentence-encoder/4\",\n",
        "                                         input_shape=[],\n",
        "                                         dtype=tf.string,\n",
        "                                         trainable=False,\n",
        "                                         name=\"USE\")\n",
        "\n",
        "model = keras.Sequential(name=\"USE_transfer_learning_model\")\n",
        "\n",
        "model.add(feature_extraction_layer)\n",
        "model.add(keras.layers.Dense(64, activation=\"relu\"))\n",
        "model.add(keras.layers.Dense(1, activation=\"sigmoid\"))\n",
        "\n",
        "\n",
        "# compile the model\n",
        "model.compile(optimizer=keras.optimizers.Adam(),\n",
        "              loss=\"binary_crossentropy\",\n",
        "              metrics=[\"accuracy\"]) \n"
      ],
      "metadata": {
        "id": "vzNWEfzBZFDJ"
      },
      "execution_count": null,
      "outputs": []
    },
    {
      "cell_type": "markdown",
      "source": [
        "#### fit the model"
      ],
      "metadata": {
        "id": "aGWe32EZcpr4"
      }
    },
    {
      "cell_type": "code",
      "source": [
        "model_history = model.fit(x=train_tweets,\n",
        "                          y=train_labels,\n",
        "                          epochs=5,\n",
        "                          validation_data=(val_tweets, val_labels),\n",
        "                          callbacks=[checkpoint_callback])"
      ],
      "metadata": {
        "id": "A4aXDyRocmtf"
      },
      "execution_count": null,
      "outputs": []
    },
    {
      "cell_type": "code",
      "source": [
        "plot_loss_curves(model_history)"
      ],
      "metadata": {
        "id": "kiEbmxhXew-3"
      },
      "execution_count": null,
      "outputs": []
    },
    {
      "cell_type": "code",
      "source": [
        "model.evaluate(val_tweets, val_labels)"
      ],
      "metadata": {
        "id": "Bx-nTE6JnqcH"
      },
      "execution_count": null,
      "outputs": []
    },
    {
      "cell_type": "code",
      "source": [
        "model.save(\"disaster_not_disaster_USE\")"
      ],
      "metadata": {
        "id": "dAsOjhUNo1J4"
      },
      "execution_count": null,
      "outputs": []
    },
    {
      "cell_type": "markdown",
      "source": [
        "## expirament with the loaded model"
      ],
      "metadata": {
        "id": "EHSijqqSw_GD"
      }
    },
    {
      "cell_type": "code",
      "source": [
        "import tensorflow as tf"
      ],
      "metadata": {
        "id": "qOWR6NQXxE3F"
      },
      "execution_count": null,
      "outputs": []
    },
    {
      "cell_type": "code",
      "source": [
        "loaded_model = tf.keras.models.load_model(\"/content/drive/MyDrive/tensorflow models/disaster_not_disaster_USE\")"
      ],
      "metadata": {
        "id": "xsYAftmPxI58"
      },
      "execution_count": null,
      "outputs": []
    },
    {
      "cell_type": "code",
      "source": [
        "# predictions probs\n",
        "\n",
        "y_prob = loaded_model.predict(val_tweets)"
      ],
      "metadata": {
        "id": "RjJuyAYXz-fU"
      },
      "execution_count": null,
      "outputs": []
    },
    {
      "cell_type": "code",
      "source": [
        "# predicted labels\n",
        "\n",
        "y_pred = tf.round(y_prob)"
      ],
      "metadata": {
        "id": "h2O9bzmF0L40"
      },
      "execution_count": null,
      "outputs": []
    },
    {
      "cell_type": "code",
      "source": [
        "import pandas as pd\n",
        "\n",
        "val_df = pd.DataFrame({\"tweet\": val_tweets,\n",
        "                         \"label\": val_labels,\n",
        "                         \"prediction\": tf.squeeze(y_pred),\n",
        "                         \"probability\": tf.squeeze(y_prob)})"
      ],
      "metadata": {
        "id": "2-Rp9dhW0dA9"
      },
      "execution_count": null,
      "outputs": []
    },
    {
      "cell_type": "code",
      "source": [
        "wrong_preds = val_df[val_df[\"label\"] != val_df[\"prediction\"]].sort_values(\"probability\", ascending=False)"
      ],
      "metadata": {
        "id": "lM8PnZJ_1QMc"
      },
      "execution_count": null,
      "outputs": []
    },
    {
      "cell_type": "code",
      "source": [
        "wrong_preds.head()\n",
        "\n",
        "# false positives"
      ],
      "metadata": {
        "id": "dH5WwHzc2KAc"
      },
      "execution_count": null,
      "outputs": []
    },
    {
      "cell_type": "code",
      "source": [
        "wrong_preds.tail()\n",
        "\n",
        "# false negatives"
      ],
      "metadata": {
        "id": "GlExpYri2Pmc"
      },
      "execution_count": null,
      "outputs": []
    },
    {
      "cell_type": "code",
      "source": [
        "test_df "
      ],
      "metadata": {
        "id": "a02yTH2N2zCj"
      },
      "execution_count": null,
      "outputs": []
    },
    {
      "cell_type": "code",
      "source": [
        "test_tweets = test_df[\"text\"]\n",
        "test_labels = test_df[\"target\"]\n",
        "\n",
        "test_tweets.shape, test_labels.shape"
      ],
      "metadata": {
        "id": "o3G-5ta_KH08"
      },
      "execution_count": null,
      "outputs": []
    },
    {
      "cell_type": "code",
      "source": [
        "loaded_model.evaluate(test_tweets, test_labels)"
      ],
      "metadata": {
        "id": "3OrK47S2LYiS"
      },
      "execution_count": null,
      "outputs": []
    },
    {
      "cell_type": "code",
      "source": [
        "test_prob = loaded_model.predict(test_tweets)\n",
        "test_pred = tf.round(test_prob)\n",
        "\n",
        "test_prob[:5], test_pred[:5]"
      ],
      "metadata": {
        "id": "39yX0qA7K1fC"
      },
      "execution_count": null,
      "outputs": []
    },
    {
      "cell_type": "code",
      "source": [
        "test_pred_df = pd.DataFrame({\"tweet\": test_tweets,\n",
        "                         \"label\": test_labels,\n",
        "                         \"prediction\": tf.squeeze(test_pred),\n",
        "                         \"probability\": tf.squeeze(test_prob)})\n",
        "\n",
        "test_df.head()"
      ],
      "metadata": {
        "id": "7oPAa9RPKvCS"
      },
      "execution_count": null,
      "outputs": []
    },
    {
      "cell_type": "code",
      "source": [
        "wrong_preds = val_df[val_df[\"label\"] != val_df[\"prediction\"]].sort_values(\"probability\", ascending=False)"
      ],
      "metadata": {
        "id": "8pJ7Vp0TL1Zr"
      },
      "execution_count": null,
      "outputs": []
    },
    {
      "cell_type": "code",
      "source": [
        "wrong_preds.head()\n",
        "\n",
        "# false positives"
      ],
      "metadata": {
        "id": "TOKGlL13L3wq"
      },
      "execution_count": null,
      "outputs": []
    },
    {
      "cell_type": "code",
      "source": [
        "wrong_preds.tail()\n",
        "\n",
        "# false negatives"
      ],
      "metadata": {
        "id": "cbDePl-mL6kK"
      },
      "execution_count": null,
      "outputs": []
    }
  ]
}